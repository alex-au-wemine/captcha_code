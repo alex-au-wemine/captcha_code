{
 "cells": [
  {
   "cell_type": "markdown",
   "id": "eeaf24ba-1e4b-4207-a823-79a7c4c416fa",
   "metadata": {},
   "source": [
    "# Background"
   ]
  },
  {
   "cell_type": "markdown",
   "id": "3dd3f428-4f00-4210-8fa5-406861b044d4",
   "metadata": {},
   "source": [
    "## Introduction"
   ]
  },
  {
   "cell_type": "markdown",
   "id": "6248ac28-4f44-43ce-9989-7509a8b507d3",
   "metadata": {},
   "source": [
    "As captcha is a common verification tool that hinders automated robot, we are going to create a CNN to break the captcha."
   ]
  },
  {
   "cell_type": "markdown",
   "id": "1d11c297-e15d-497b-848e-c19c4eb5277e",
   "metadata": {},
   "source": [
    "## Loading Prerequisites and Dependencies"
   ]
  },
  {
   "cell_type": "code",
   "execution_count": 155,
   "id": "160d5ab4-961e-4a83-ab27-86222da576a4",
   "metadata": {},
   "outputs": [],
   "source": [
    "import pandas as pd\n",
    "import numpy as np\n",
    "import matplotlib.pyplot as plt\n",
    "import seaborn as sns\n",
    "from tensorflow.keras.layers import Dense, Dropout\n",
    "from tensorflow.keras.utils import to_categorical\n",
    "from tensorflow.keras.models import Sequential\n",
    "import pathlib\n",
    "from sklearn.preprocessing import StandardScaler, LabelEncoder\n",
    "from sklearn.model_selection import train_test_split\n",
    "from generalUtils.generalUtils import LogFile\n",
    "from generalUtils.mlUtils import KFoldCV\n",
    "from generalUtils.notification import slack_message\n",
    "from PIL import Image"
   ]
  },
  {
   "cell_type": "code",
   "execution_count": 156,
   "id": "72bdf5e3-3a51-449c-b40e-4aa0238da887",
   "metadata": {},
   "outputs": [],
   "source": [
    "DATA_PATH = pathlib.Path('captcha')\n",
    "LABEL_PATH = DATA_PATH / 'captcha_code.csv'\n",
    "PHOTO_PATH = DATA_PATH / 'captcha'"
   ]
  },
  {
   "cell_type": "code",
   "execution_count": 157,
   "id": "1501cb11-24d8-4d13-a137-6672bd1b4720",
   "metadata": {},
   "outputs": [],
   "source": [
    "LABEL_FILE_COLUMN = 'LabelFile'\n",
    "LABEL_TARGET_COLUMN = 'Target'"
   ]
  },
  {
   "cell_type": "markdown",
   "id": "1f94b741-3b9a-4c5c-8c4d-47dd18c0cc8c",
   "metadata": {},
   "source": [
    "---"
   ]
  },
  {
   "cell_type": "markdown",
   "id": "1e0602f8-1fb6-4aee-8107-162b0ebcb853",
   "metadata": {},
   "source": [
    "# Loading Data and Processing"
   ]
  },
  {
   "cell_type": "markdown",
   "id": "e50613ae-69b6-45c4-8df6-de7be3ad0165",
   "metadata": {},
   "source": [
    "## Checking the label dataframe"
   ]
  },
  {
   "cell_type": "code",
   "execution_count": 158,
   "id": "6eba12f4-ab47-4f09-9787-4bf2b502ecdd",
   "metadata": {},
   "outputs": [],
   "source": [
    "labelDf = pd.read_csv(LABEL_PATH, header = None, names = [LABEL_FILE_COLUMN, LABEL_TARGET_COLUMN])"
   ]
  },
  {
   "cell_type": "code",
   "execution_count": 159,
   "id": "cbbf86a2-b1c6-4153-8a21-71a2d50d74ca",
   "metadata": {},
   "outputs": [
    {
     "data": {
      "text/html": [
       "<div>\n",
       "<style scoped>\n",
       "    .dataframe tbody tr th:only-of-type {\n",
       "        vertical-align: middle;\n",
       "    }\n",
       "\n",
       "    .dataframe tbody tr th {\n",
       "        vertical-align: top;\n",
       "    }\n",
       "\n",
       "    .dataframe thead th {\n",
       "        text-align: right;\n",
       "    }\n",
       "</style>\n",
       "<table border=\"1\" class=\"dataframe\">\n",
       "  <thead>\n",
       "    <tr style=\"text-align: right;\">\n",
       "      <th></th>\n",
       "      <th>LabelFile</th>\n",
       "      <th>Target</th>\n",
       "    </tr>\n",
       "  </thead>\n",
       "  <tbody>\n",
       "    <tr>\n",
       "      <th>1526</th>\n",
       "      <td>1527_captcha.png</td>\n",
       "      <td>5161</td>\n",
       "    </tr>\n",
       "    <tr>\n",
       "      <th>1765</th>\n",
       "      <td>1766_captcha.png</td>\n",
       "      <td>9716</td>\n",
       "    </tr>\n",
       "    <tr>\n",
       "      <th>329</th>\n",
       "      <td>330_captcha.png</td>\n",
       "      <td>1857</td>\n",
       "    </tr>\n",
       "    <tr>\n",
       "      <th>723</th>\n",
       "      <td>724_captcha.png</td>\n",
       "      <td>2426</td>\n",
       "    </tr>\n",
       "    <tr>\n",
       "      <th>391</th>\n",
       "      <td>392_captcha.png</td>\n",
       "      <td>882</td>\n",
       "    </tr>\n",
       "  </tbody>\n",
       "</table>\n",
       "</div>"
      ],
      "text/plain": [
       "             LabelFile  Target\n",
       "1526  1527_captcha.png    5161\n",
       "1765  1766_captcha.png    9716\n",
       "329    330_captcha.png    1857\n",
       "723    724_captcha.png    2426\n",
       "391    392_captcha.png     882"
      ]
     },
     "execution_count": 159,
     "metadata": {},
     "output_type": "execute_result"
    }
   ],
   "source": [
    "labelDf.sample(5)"
   ]
  },
  {
   "cell_type": "code",
   "execution_count": 160,
   "id": "97093665-7b66-4bbd-ac8b-e8a5a34f9bd4",
   "metadata": {},
   "outputs": [
    {
     "name": "stdout",
     "output_type": "stream",
     "text": [
      "<class 'pandas.core.frame.DataFrame'>\n",
      "RangeIndex: 2001 entries, 0 to 2000\n",
      "Data columns (total 2 columns):\n",
      " #   Column     Non-Null Count  Dtype \n",
      "---  ------     --------------  ----- \n",
      " 0   LabelFile  2001 non-null   object\n",
      " 1   Target     2001 non-null   int64 \n",
      "dtypes: int64(1), object(1)\n",
      "memory usage: 31.4+ KB\n"
     ]
    }
   ],
   "source": [
    "labelDf.info()"
   ]
  },
  {
   "cell_type": "markdown",
   "id": "75716585-e571-4aa9-a44c-564255fa7f49",
   "metadata": {},
   "source": [
    "We can see that our \"Target\" column has been inferred as the type `int`, which is not the case as the **trailling** zero are also useful. Thus we have to parsed the target column into text."
   ]
  },
  {
   "cell_type": "code",
   "execution_count": 161,
   "id": "fe06b686-db9a-49d8-8580-1150fbf5a466",
   "metadata": {},
   "outputs": [],
   "source": [
    "def parse_int_to_four_digit_text(integer):\n",
    "    length_of_targeted_text = 4\n",
    "    stringInteger = str(integer)\n",
    "    length_of_string_integer = len(stringInteger)\n",
    "    if length_of_string_integer < length_of_targeted_text:\n",
    "        return (length_of_targeted_text - length_of_string_integer)*\"0\" + stringInteger\n",
    "    return stringInteger"
   ]
  },
  {
   "cell_type": "code",
   "execution_count": 162,
   "id": "8b44c4d7-efe7-4d45-9171-f92e72f5515f",
   "metadata": {},
   "outputs": [
    {
     "data": {
      "text/plain": [
       "'0001'"
      ]
     },
     "execution_count": 162,
     "metadata": {},
     "output_type": "execute_result"
    }
   ],
   "source": [
    "parse_int_to_four_digit_text(1)"
   ]
  },
  {
   "cell_type": "markdown",
   "id": "037bda0e-4181-4ff9-bac2-09930fa7dbfe",
   "metadata": {},
   "source": [
    "Our parsing code is working. Now, we will use the `df.apply` method to parse the integer into our targeted format."
   ]
  },
  {
   "cell_type": "code",
   "execution_count": 163,
   "id": "ca0bd6d3-6a6f-472b-9f2f-97e2c5934d48",
   "metadata": {},
   "outputs": [],
   "source": [
    "labelDf['Target'] = labelDf['Target'].astype(str)"
   ]
  },
  {
   "cell_type": "code",
   "execution_count": 164,
   "id": "36264c50-141e-4254-9897-4b819195a2cc",
   "metadata": {},
   "outputs": [],
   "source": [
    "labelDf['Target'] = labelDf.Target.apply(parse_int_to_four_digit_text)"
   ]
  },
  {
   "cell_type": "code",
   "execution_count": 165,
   "id": "9a8858db-c160-47f3-bd32-a8f1c837f7cf",
   "metadata": {},
   "outputs": [
    {
     "data": {
      "text/html": [
       "<div>\n",
       "<style scoped>\n",
       "    .dataframe tbody tr th:only-of-type {\n",
       "        vertical-align: middle;\n",
       "    }\n",
       "\n",
       "    .dataframe tbody tr th {\n",
       "        vertical-align: top;\n",
       "    }\n",
       "\n",
       "    .dataframe thead th {\n",
       "        text-align: right;\n",
       "    }\n",
       "</style>\n",
       "<table border=\"1\" class=\"dataframe\">\n",
       "  <thead>\n",
       "    <tr style=\"text-align: right;\">\n",
       "      <th></th>\n",
       "      <th>LabelFile</th>\n",
       "      <th>Target</th>\n",
       "    </tr>\n",
       "  </thead>\n",
       "  <tbody>\n",
       "    <tr>\n",
       "      <th>564</th>\n",
       "      <td>565_captcha.png</td>\n",
       "      <td>4700</td>\n",
       "    </tr>\n",
       "    <tr>\n",
       "      <th>1084</th>\n",
       "      <td>1085_captcha.png</td>\n",
       "      <td>0636</td>\n",
       "    </tr>\n",
       "    <tr>\n",
       "      <th>1336</th>\n",
       "      <td>1337_captcha.png</td>\n",
       "      <td>9534</td>\n",
       "    </tr>\n",
       "    <tr>\n",
       "      <th>950</th>\n",
       "      <td>951_captcha.png</td>\n",
       "      <td>5379</td>\n",
       "    </tr>\n",
       "    <tr>\n",
       "      <th>333</th>\n",
       "      <td>334_captcha.png</td>\n",
       "      <td>3004</td>\n",
       "    </tr>\n",
       "  </tbody>\n",
       "</table>\n",
       "</div>"
      ],
      "text/plain": [
       "             LabelFile Target\n",
       "564    565_captcha.png   4700\n",
       "1084  1085_captcha.png   0636\n",
       "1336  1337_captcha.png   9534\n",
       "950    951_captcha.png   5379\n",
       "333    334_captcha.png   3004"
      ]
     },
     "execution_count": 165,
     "metadata": {},
     "output_type": "execute_result"
    }
   ],
   "source": [
    "labelDf.sample(5)"
   ]
  },
  {
   "cell_type": "code",
   "execution_count": 166,
   "id": "19c11ff0-9065-4c20-a764-392577d893b6",
   "metadata": {},
   "outputs": [
    {
     "name": "stdout",
     "output_type": "stream",
     "text": [
      "<class 'pandas.core.frame.DataFrame'>\n",
      "RangeIndex: 2001 entries, 0 to 2000\n",
      "Data columns (total 2 columns):\n",
      " #   Column     Non-Null Count  Dtype \n",
      "---  ------     --------------  ----- \n",
      " 0   LabelFile  2001 non-null   object\n",
      " 1   Target     2001 non-null   object\n",
      "dtypes: object(2)\n",
      "memory usage: 31.4+ KB\n"
     ]
    }
   ],
   "source": [
    "labelDf.info()"
   ]
  },
  {
   "cell_type": "markdown",
   "id": "33547846-a7a1-43dd-af6a-49927ab9a04c",
   "metadata": {},
   "source": [
    "Now we can see that our dataframe is behaving well."
   ]
  },
  {
   "cell_type": "markdown",
   "id": "df9405f9-f58f-4fea-82a1-6a86490ed97d",
   "metadata": {},
   "source": [
    "## Checking our data"
   ]
  },
  {
   "cell_type": "markdown",
   "id": "e319d9ef-27aa-41b5-b722-d8ac0134c461",
   "metadata": {},
   "source": [
    "As we can find the image files using the `labelDf`, we are going to use split the dataset into training and testing data first."
   ]
  },
  {
   "cell_type": "code",
   "execution_count": 167,
   "id": "74096205-84b4-42c2-b1d0-89d9e4b2a3de",
   "metadata": {},
   "outputs": [],
   "source": [
    "X = labelDf.LabelFile.values\n",
    "y = labelDf.Target.values"
   ]
  },
  {
   "cell_type": "code",
   "execution_count": 168,
   "id": "e1d23c1c-9964-4165-80f7-5ca073d917fe",
   "metadata": {},
   "outputs": [
    {
     "data": {
      "text/plain": [
       "array(['1_captcha.png', '2_captcha.png', '3_captcha.png', ...,\n",
       "       '1999_captcha.png', '2000_captcha.png', '2001_captcha.png'],\n",
       "      dtype=object)"
      ]
     },
     "execution_count": 168,
     "metadata": {},
     "output_type": "execute_result"
    }
   ],
   "source": [
    "X"
   ]
  },
  {
   "cell_type": "code",
   "execution_count": 169,
   "id": "5ecad836-8af0-4226-bc6a-3d9c1b91e3c4",
   "metadata": {},
   "outputs": [],
   "source": [
    "_X_train, _X_test, _y_train, _y_test = train_test_split(X, y, test_size = 0.2)"
   ]
  },
  {
   "cell_type": "markdown",
   "id": "822483ad-16ea-46dc-b21f-5e1a7d4ff5d3",
   "metadata": {},
   "source": [
    "Now our data is split into training and testing data. We need to write a function to **parse** the input photo into numpy array."
   ]
  },
  {
   "cell_type": "code",
   "execution_count": 170,
   "id": "2e479785-4ea9-45b6-8471-66228fa9e8b2",
   "metadata": {},
   "outputs": [],
   "source": [
    "def image_file_path_to_nd_array(filepath):\n",
    "    image = Image.open(filepath)\n",
    "    data = np.asarray(image)\n",
    "    print(type(data))\n",
    "    print(data.shape)\n",
    "    return data"
   ]
  },
  {
   "cell_type": "markdown",
   "id": "abd6f926-7bdd-4030-ba37-6c805008c220",
   "metadata": {},
   "source": [
    "We would like to test on function and have a look on the data."
   ]
  },
  {
   "cell_type": "code",
   "execution_count": 171,
   "id": "219f872f-974a-49b8-9ccb-622cb4021d87",
   "metadata": {},
   "outputs": [
    {
     "name": "stdout",
     "output_type": "stream",
     "text": [
      "<class 'numpy.ndarray'>\n",
      "(40, 135, 4)\n"
     ]
    },
    {
     "data": {
      "text/plain": [
       "array([[[204, 170, 204, 255],\n",
       "        [204, 170, 204, 255],\n",
       "        [204, 180, 204, 255],\n",
       "        ...,\n",
       "        [204, 199, 204, 255],\n",
       "        [204, 213, 204, 255],\n",
       "        [204, 213, 204, 255]],\n",
       "\n",
       "       [[204, 175, 204, 255],\n",
       "        [204, 175, 204, 255],\n",
       "        [205, 186, 205, 255],\n",
       "        ...,\n",
       "        [205, 199, 201, 255],\n",
       "        [204, 207, 197, 255],\n",
       "        [204, 207, 197, 255]],\n",
       "\n",
       "       [[204, 196, 204, 255],\n",
       "        [204, 196, 204, 255],\n",
       "        [211, 207, 211, 255],\n",
       "        ...,\n",
       "        [213, 197, 192, 255],\n",
       "        [204, 186, 172, 255],\n",
       "        [204, 186, 172, 255]],\n",
       "\n",
       "       ...,\n",
       "\n",
       "       [[204, 196, 204, 255],\n",
       "        [204, 196, 204, 255],\n",
       "        [211, 207, 207, 255],\n",
       "        ...,\n",
       "        [200, 210, 207, 255],\n",
       "        [184, 196, 204, 255],\n",
       "        [184, 196, 204, 255]],\n",
       "\n",
       "       [[204, 178, 204, 255],\n",
       "        [204, 178, 204, 255],\n",
       "        [206, 188, 196, 255],\n",
       "        ...,\n",
       "        [178, 191, 194, 255],\n",
       "        [162, 178, 204, 255],\n",
       "        [162, 178, 204, 255]],\n",
       "\n",
       "       [[204, 170, 204, 255],\n",
       "        [204, 170, 204, 255],\n",
       "        [204, 180, 191, 255],\n",
       "        ...,\n",
       "        [168, 183, 188, 255],\n",
       "        [153, 170, 204, 255],\n",
       "        [153, 170, 204, 255]]], dtype=uint8)"
      ]
     },
     "execution_count": 171,
     "metadata": {},
     "output_type": "execute_result"
    }
   ],
   "source": [
    "image_file_path_to_nd_array(PHOTO_PATH / _X_train[0])"
   ]
  },
  {
   "cell_type": "markdown",
   "id": "bdb48247-990f-4621-9094-008adf076a07",
   "metadata": {},
   "source": [
    "We can see that the image has a height of **40** pixels, width of **135** pixels and with 4 channels. The last channel is always 255, which is actually the **opacity** of the photo. We can drop the opacity as it doesn't help with our understanding to the data."
   ]
  },
  {
   "cell_type": "code",
   "execution_count": 172,
   "id": "230d6e29-275a-48e1-ad2a-24a637d47d97",
   "metadata": {},
   "outputs": [],
   "source": [
    "def image_file_path_to_nd_array(filepath):\n",
    "    image = Image.open(filepath)\n",
    "    data = np.asarray(image)\n",
    "    data = data[...,:3] # here is the magic works! we ignore all the previous dimensions and in the last dimension we only take the first 3 elements!\n",
    "    return data"
   ]
  },
  {
   "cell_type": "code",
   "execution_count": 173,
   "id": "e6eecf54-6cca-48ea-bf98-8a79d0d8594f",
   "metadata": {},
   "outputs": [
    {
     "data": {
      "text/plain": [
       "array([[[204, 170, 204],\n",
       "        [204, 170, 204],\n",
       "        [204, 180, 204],\n",
       "        ...,\n",
       "        [204, 199, 204],\n",
       "        [204, 213, 204],\n",
       "        [204, 213, 204]],\n",
       "\n",
       "       [[204, 175, 204],\n",
       "        [204, 175, 204],\n",
       "        [205, 186, 205],\n",
       "        ...,\n",
       "        [205, 199, 201],\n",
       "        [204, 207, 197],\n",
       "        [204, 207, 197]],\n",
       "\n",
       "       [[204, 196, 204],\n",
       "        [204, 196, 204],\n",
       "        [211, 207, 211],\n",
       "        ...,\n",
       "        [213, 197, 192],\n",
       "        [204, 186, 172],\n",
       "        [204, 186, 172]],\n",
       "\n",
       "       ...,\n",
       "\n",
       "       [[204, 196, 204],\n",
       "        [204, 196, 204],\n",
       "        [211, 207, 207],\n",
       "        ...,\n",
       "        [200, 210, 207],\n",
       "        [184, 196, 204],\n",
       "        [184, 196, 204]],\n",
       "\n",
       "       [[204, 178, 204],\n",
       "        [204, 178, 204],\n",
       "        [206, 188, 196],\n",
       "        ...,\n",
       "        [178, 191, 194],\n",
       "        [162, 178, 204],\n",
       "        [162, 178, 204]],\n",
       "\n",
       "       [[204, 170, 204],\n",
       "        [204, 170, 204],\n",
       "        [204, 180, 191],\n",
       "        ...,\n",
       "        [168, 183, 188],\n",
       "        [153, 170, 204],\n",
       "        [153, 170, 204]]], dtype=uint8)"
      ]
     },
     "execution_count": 173,
     "metadata": {},
     "output_type": "execute_result"
    }
   ],
   "source": [
    "image_file_path_to_nd_array(PHOTO_PATH / _X_train[0])"
   ]
  },
  {
   "cell_type": "markdown",
   "id": "03270199-20e6-4701-bea2-c213f73341fd",
   "metadata": {},
   "source": [
    "Now we can see that our data is correct. By using a loop to get the images, we can train our model to have convolution and pooling on these numpy arrays."
   ]
  },
  {
   "cell_type": "markdown",
   "id": "5b28c80e-66be-4b7e-8952-7eaf3c8ca322",
   "metadata": {},
   "source": [
    "## Getting all the numpy array representation of the training and testing datasets"
   ]
  },
  {
   "cell_type": "code",
   "execution_count": 174,
   "id": "0ff91006-fcad-4351-b3dd-2b0a425c64ba",
   "metadata": {},
   "outputs": [],
   "source": [
    "X_train = []\n",
    "X_test = []"
   ]
  },
  {
   "cell_type": "code",
   "execution_count": 175,
   "id": "2a08ec6e-90aa-445b-9057-ea9ff824974c",
   "metadata": {},
   "outputs": [],
   "source": [
    "for trainDataPath in _X_train:\n",
    "    X_train.append(image_file_path_to_nd_array(PHOTO_PATH / trainDataPath))\n",
    "for testDataPath in _X_test:\n",
    "    X_test.append(image_file_path_to_nd_array(PHOTO_PATH / testDataPath))"
   ]
  },
  {
   "cell_type": "code",
   "execution_count": 176,
   "id": "15a1efd6-2445-493a-b4e6-5ad03220af02",
   "metadata": {},
   "outputs": [
    {
     "data": {
      "text/plain": [
       "[array([[[204, 170, 204],\n",
       "         [204, 170, 204],\n",
       "         [204, 180, 204],\n",
       "         ...,\n",
       "         [204, 199, 204],\n",
       "         [204, 213, 204],\n",
       "         [204, 213, 204]],\n",
       " \n",
       "        [[204, 175, 204],\n",
       "         [204, 175, 204],\n",
       "         [205, 186, 205],\n",
       "         ...,\n",
       "         [205, 199, 201],\n",
       "         [204, 207, 197],\n",
       "         [204, 207, 197]],\n",
       " \n",
       "        [[204, 196, 204],\n",
       "         [204, 196, 204],\n",
       "         [211, 207, 211],\n",
       "         ...,\n",
       "         [213, 197, 192],\n",
       "         [204, 186, 172],\n",
       "         [204, 186, 172]],\n",
       " \n",
       "        ...,\n",
       " \n",
       "        [[204, 196, 204],\n",
       "         [204, 196, 204],\n",
       "         [211, 207, 207],\n",
       "         ...,\n",
       "         [200, 210, 207],\n",
       "         [184, 196, 204],\n",
       "         [184, 196, 204]],\n",
       " \n",
       "        [[204, 178, 204],\n",
       "         [204, 178, 204],\n",
       "         [206, 188, 196],\n",
       "         ...,\n",
       "         [178, 191, 194],\n",
       "         [162, 178, 204],\n",
       "         [162, 178, 204]],\n",
       " \n",
       "        [[204, 170, 204],\n",
       "         [204, 170, 204],\n",
       "         [204, 180, 191],\n",
       "         ...,\n",
       "         [168, 183, 188],\n",
       "         [153, 170, 204],\n",
       "         [153, 170, 204]]], dtype=uint8),\n",
       " array([[[204, 170, 204],\n",
       "         [204, 170, 204],\n",
       "         [204, 180, 204],\n",
       "         ...,\n",
       "         [204, 199, 204],\n",
       "         [204, 213, 204],\n",
       "         [204, 213, 204]],\n",
       " \n",
       "        [[204, 175, 204],\n",
       "         [204, 175, 204],\n",
       "         [205, 186, 205],\n",
       "         ...,\n",
       "         [205, 199, 205],\n",
       "         [204, 207, 204],\n",
       "         [204, 207, 204]],\n",
       " \n",
       "        [[204, 196, 204],\n",
       "         [204, 196, 204],\n",
       "         [211, 207, 211],\n",
       "         ...,\n",
       "         [213, 197, 213],\n",
       "         [204, 186, 204],\n",
       "         [204, 186, 204]],\n",
       " \n",
       "        ...,\n",
       " \n",
       "        [[172, 196, 204],\n",
       "         [172, 196, 204],\n",
       "         [188, 207, 207],\n",
       "         ...,\n",
       "         [200, 205, 213],\n",
       "         [184, 196, 204],\n",
       "         [184, 196, 204]],\n",
       " \n",
       "        [[194, 178, 204],\n",
       "         [194, 178, 204],\n",
       "         [199, 188, 196],\n",
       "         ...,\n",
       "         [178, 180, 206],\n",
       "         [162, 178, 204],\n",
       "         [162, 178, 204]],\n",
       " \n",
       "        [[204, 170, 204],\n",
       "         [204, 170, 204],\n",
       "         [204, 180, 191],\n",
       "         ...,\n",
       "         [168, 170, 204],\n",
       "         [153, 170, 204],\n",
       "         [153, 170, 204]]], dtype=uint8),\n",
       " array([[[204, 170, 204],\n",
       "         [204, 170, 204],\n",
       "         [204, 180, 204],\n",
       "         ...,\n",
       "         [204, 199, 204],\n",
       "         [204, 213, 204],\n",
       "         [204, 213, 204]],\n",
       " \n",
       "        [[204, 175, 204],\n",
       "         [204, 175, 204],\n",
       "         [202, 180, 200],\n",
       "         ...,\n",
       "         [205, 199, 205],\n",
       "         [204, 207, 204],\n",
       "         [204, 207, 204]],\n",
       " \n",
       "        [[204, 196, 204],\n",
       "         [204, 196, 204],\n",
       "         [196, 180, 188],\n",
       "         ...,\n",
       "         [213, 197, 213],\n",
       "         [204, 186, 204],\n",
       "         [204, 186, 204]],\n",
       " \n",
       "        ...,\n",
       " \n",
       "        [[172, 196, 172],\n",
       "         [172, 196, 172],\n",
       "         [180, 194, 180],\n",
       "         ...,\n",
       "         [164, 160, 160],\n",
       "         [204, 196, 184],\n",
       "         [204, 196, 184]],\n",
       " \n",
       "        [[194, 178, 194],\n",
       "         [194, 178, 194],\n",
       "         [196, 184, 196],\n",
       "         ...,\n",
       "         [192, 176, 166],\n",
       "         [204, 178, 162],\n",
       "         [204, 178, 162]],\n",
       " \n",
       "        [[204, 170, 204],\n",
       "         [204, 170, 204],\n",
       "         [204, 180, 204],\n",
       "         ...,\n",
       "         [204, 183, 168],\n",
       "         [204, 170, 153],\n",
       "         [204, 170, 153]]], dtype=uint8)]"
      ]
     },
     "execution_count": 176,
     "metadata": {},
     "output_type": "execute_result"
    }
   ],
   "source": [
    "X_train[:3]"
   ]
  },
  {
   "cell_type": "code",
   "execution_count": 177,
   "id": "c8a212d1-f05f-468a-b007-f0c53d218b5d",
   "metadata": {},
   "outputs": [],
   "source": [
    "X_train = np.array(X_train)\n",
    "X_test = np.array(X_test)"
   ]
  },
  {
   "cell_type": "code",
   "execution_count": 178,
   "id": "30a7576b-0b85-43cd-899a-a3c2f20433da",
   "metadata": {},
   "outputs": [
    {
     "data": {
      "text/plain": [
       "array([[[[204, 170, 204],\n",
       "         [204, 170, 204],\n",
       "         [204, 180, 204],\n",
       "         ...,\n",
       "         [204, 199, 204],\n",
       "         [204, 213, 204],\n",
       "         [204, 213, 204]],\n",
       "\n",
       "        [[204, 175, 204],\n",
       "         [204, 175, 204],\n",
       "         [205, 186, 205],\n",
       "         ...,\n",
       "         [205, 199, 201],\n",
       "         [204, 207, 197],\n",
       "         [204, 207, 197]],\n",
       "\n",
       "        [[204, 196, 204],\n",
       "         [204, 196, 204],\n",
       "         [211, 207, 211],\n",
       "         ...,\n",
       "         [213, 197, 192],\n",
       "         [204, 186, 172],\n",
       "         [204, 186, 172]],\n",
       "\n",
       "        ...,\n",
       "\n",
       "        [[204, 196, 204],\n",
       "         [204, 196, 204],\n",
       "         [211, 207, 207],\n",
       "         ...,\n",
       "         [200, 210, 207],\n",
       "         [184, 196, 204],\n",
       "         [184, 196, 204]],\n",
       "\n",
       "        [[204, 178, 204],\n",
       "         [204, 178, 204],\n",
       "         [206, 188, 196],\n",
       "         ...,\n",
       "         [178, 191, 194],\n",
       "         [162, 178, 204],\n",
       "         [162, 178, 204]],\n",
       "\n",
       "        [[204, 170, 204],\n",
       "         [204, 170, 204],\n",
       "         [204, 180, 191],\n",
       "         ...,\n",
       "         [168, 183, 188],\n",
       "         [153, 170, 204],\n",
       "         [153, 170, 204]]],\n",
       "\n",
       "\n",
       "       [[[204, 170, 204],\n",
       "         [204, 170, 204],\n",
       "         [204, 180, 204],\n",
       "         ...,\n",
       "         [204, 199, 204],\n",
       "         [204, 213, 204],\n",
       "         [204, 213, 204]],\n",
       "\n",
       "        [[204, 175, 204],\n",
       "         [204, 175, 204],\n",
       "         [205, 186, 205],\n",
       "         ...,\n",
       "         [205, 199, 205],\n",
       "         [204, 207, 204],\n",
       "         [204, 207, 204]],\n",
       "\n",
       "        [[204, 196, 204],\n",
       "         [204, 196, 204],\n",
       "         [211, 207, 211],\n",
       "         ...,\n",
       "         [213, 197, 213],\n",
       "         [204, 186, 204],\n",
       "         [204, 186, 204]],\n",
       "\n",
       "        ...,\n",
       "\n",
       "        [[172, 196, 204],\n",
       "         [172, 196, 204],\n",
       "         [188, 207, 207],\n",
       "         ...,\n",
       "         [200, 205, 213],\n",
       "         [184, 196, 204],\n",
       "         [184, 196, 204]],\n",
       "\n",
       "        [[194, 178, 204],\n",
       "         [194, 178, 204],\n",
       "         [199, 188, 196],\n",
       "         ...,\n",
       "         [178, 180, 206],\n",
       "         [162, 178, 204],\n",
       "         [162, 178, 204]],\n",
       "\n",
       "        [[204, 170, 204],\n",
       "         [204, 170, 204],\n",
       "         [204, 180, 191],\n",
       "         ...,\n",
       "         [168, 170, 204],\n",
       "         [153, 170, 204],\n",
       "         [153, 170, 204]]],\n",
       "\n",
       "\n",
       "       [[[204, 170, 204],\n",
       "         [204, 170, 204],\n",
       "         [204, 180, 204],\n",
       "         ...,\n",
       "         [204, 199, 204],\n",
       "         [204, 213, 204],\n",
       "         [204, 213, 204]],\n",
       "\n",
       "        [[204, 175, 204],\n",
       "         [204, 175, 204],\n",
       "         [202, 180, 200],\n",
       "         ...,\n",
       "         [205, 199, 205],\n",
       "         [204, 207, 204],\n",
       "         [204, 207, 204]],\n",
       "\n",
       "        [[204, 196, 204],\n",
       "         [204, 196, 204],\n",
       "         [196, 180, 188],\n",
       "         ...,\n",
       "         [213, 197, 213],\n",
       "         [204, 186, 204],\n",
       "         [204, 186, 204]],\n",
       "\n",
       "        ...,\n",
       "\n",
       "        [[172, 196, 172],\n",
       "         [172, 196, 172],\n",
       "         [180, 194, 180],\n",
       "         ...,\n",
       "         [164, 160, 160],\n",
       "         [204, 196, 184],\n",
       "         [204, 196, 184]],\n",
       "\n",
       "        [[194, 178, 194],\n",
       "         [194, 178, 194],\n",
       "         [196, 184, 196],\n",
       "         ...,\n",
       "         [192, 176, 166],\n",
       "         [204, 178, 162],\n",
       "         [204, 178, 162]],\n",
       "\n",
       "        [[204, 170, 204],\n",
       "         [204, 170, 204],\n",
       "         [204, 180, 204],\n",
       "         ...,\n",
       "         [204, 183, 168],\n",
       "         [204, 170, 153],\n",
       "         [204, 170, 153]]],\n",
       "\n",
       "\n",
       "       ...,\n",
       "\n",
       "\n",
       "       [[[204, 170, 204],\n",
       "         [204, 170, 204],\n",
       "         [204, 180, 204],\n",
       "         ...,\n",
       "         [204, 199, 204],\n",
       "         [204, 213, 204],\n",
       "         [204, 213, 204]],\n",
       "\n",
       "        [[204, 175, 204],\n",
       "         [204, 175, 204],\n",
       "         [205, 186, 205],\n",
       "         ...,\n",
       "         [205, 199, 205],\n",
       "         [204, 207, 204],\n",
       "         [204, 207, 204]],\n",
       "\n",
       "        [[204, 196, 204],\n",
       "         [204, 196, 204],\n",
       "         [211, 207, 211],\n",
       "         ...,\n",
       "         [213, 197, 213],\n",
       "         [204, 186, 204],\n",
       "         [204, 186, 204]],\n",
       "\n",
       "        ...,\n",
       "\n",
       "        [[172, 186, 204],\n",
       "         [172, 186, 204],\n",
       "         [156, 188, 196],\n",
       "         ...,\n",
       "         [207, 205, 207],\n",
       "         [204, 196, 204],\n",
       "         [204, 196, 204]],\n",
       "\n",
       "        [[194, 204, 204],\n",
       "         [194, 204, 204],\n",
       "         [189, 198, 201],\n",
       "         ...,\n",
       "         [194, 180, 194],\n",
       "         [204, 178, 204],\n",
       "         [204, 178, 204]],\n",
       "\n",
       "        [[204, 213, 204],\n",
       "         [204, 213, 204],\n",
       "         [204, 202, 204],\n",
       "         ...,\n",
       "         [188, 170, 188],\n",
       "         [204, 170, 204],\n",
       "         [204, 170, 204]]],\n",
       "\n",
       "\n",
       "       [[[204, 170, 204],\n",
       "         [204, 170, 204],\n",
       "         [204, 180, 204],\n",
       "         ...,\n",
       "         [204, 199, 204],\n",
       "         [204, 213, 204],\n",
       "         [204, 213, 204]],\n",
       "\n",
       "        [[204, 175, 204],\n",
       "         [204, 175, 204],\n",
       "         [197, 184, 199],\n",
       "         ...,\n",
       "         [205, 199, 205],\n",
       "         [204, 207, 204],\n",
       "         [204, 207, 204]],\n",
       "\n",
       "        [[204, 196, 204],\n",
       "         [204, 196, 204],\n",
       "         [172, 200, 180],\n",
       "         ...,\n",
       "         [213, 197, 213],\n",
       "         [204, 186, 204],\n",
       "         [204, 186, 204]],\n",
       "\n",
       "        ...,\n",
       "\n",
       "        [[204, 186, 204],\n",
       "         [204, 186, 204],\n",
       "         [207, 195, 207],\n",
       "         ...,\n",
       "         [207, 205, 207],\n",
       "         [204, 196, 204],\n",
       "         [204, 196, 204]],\n",
       "\n",
       "        [[204, 204, 204],\n",
       "         [204, 204, 204],\n",
       "         [196, 200, 196],\n",
       "         ...,\n",
       "         [194, 180, 194],\n",
       "         [204, 178, 204],\n",
       "         [204, 178, 204]],\n",
       "\n",
       "        [[204, 213, 204],\n",
       "         [204, 213, 204],\n",
       "         [191, 202, 191],\n",
       "         ...,\n",
       "         [188, 170, 188],\n",
       "         [204, 170, 204],\n",
       "         [204, 170, 204]]],\n",
       "\n",
       "\n",
       "       [[[204, 170, 204],\n",
       "         [204, 170, 204],\n",
       "         [204, 180, 204],\n",
       "         ...,\n",
       "         [204, 199, 204],\n",
       "         [204, 213, 204],\n",
       "         [204, 213, 204]],\n",
       "\n",
       "        [[204, 175, 204],\n",
       "         [204, 175, 204],\n",
       "         [205, 186, 205],\n",
       "         ...,\n",
       "         [205, 199, 205],\n",
       "         [204, 207, 204],\n",
       "         [204, 207, 204]],\n",
       "\n",
       "        [[204, 196, 204],\n",
       "         [204, 196, 204],\n",
       "         [211, 207, 211],\n",
       "         ...,\n",
       "         [213, 197, 213],\n",
       "         [204, 186, 204],\n",
       "         [204, 186, 204]],\n",
       "\n",
       "        ...,\n",
       "\n",
       "        [[204, 196, 172],\n",
       "         [204, 196, 172],\n",
       "         [207, 207, 188],\n",
       "         ...,\n",
       "         [198, 182, 164],\n",
       "         [204, 213, 204],\n",
       "         [204, 213, 204]],\n",
       "\n",
       "        [[204, 178, 194],\n",
       "         [204, 178, 194],\n",
       "         [196, 188, 199],\n",
       "         ...,\n",
       "         [191, 194, 192],\n",
       "         [204, 213, 204],\n",
       "         [204, 213, 204]],\n",
       "\n",
       "        [[204, 170, 204],\n",
       "         [204, 170, 204],\n",
       "         [191, 180, 204],\n",
       "         ...,\n",
       "         [188, 199, 204],\n",
       "         [204, 213, 204],\n",
       "         [204, 213, 204]]]], dtype=uint8)"
      ]
     },
     "execution_count": 178,
     "metadata": {},
     "output_type": "execute_result"
    }
   ],
   "source": [
    "X_train"
   ]
  },
  {
   "cell_type": "markdown",
   "id": "0c35760f-badf-4ec4-b335-5725cf9241c9",
   "metadata": {},
   "source": [
    "Now we have created the set of training data and testing data."
   ]
  },
  {
   "cell_type": "markdown",
   "id": "aaca46b4-c501-4b3e-8abd-fc40318308f3",
   "metadata": {},
   "source": [
    "## Defining the dependencies constants in the model"
   ]
  },
  {
   "cell_type": "markdown",
   "id": "661d1b12-c5af-4eb5-a210-0f2325b0515b",
   "metadata": {},
   "source": [
    "In this model, we will eventually predict 10 integers in 4 digits, which is `0-9`. Thus, there are 10 labels in 4 rows.<br>\n",
    "Also, as we are doing multi-class classification, we will adopt the `softmax` layer in the last layer.<br>\n",
    "In the previous investigation, we found that the dimension of the captcha code is $135\\times 40$ (width $\\times$ height)."
   ]
  },
  {
   "cell_type": "code",
   "execution_count": 179,
   "id": "24466fad-5962-4225-90e4-fd35e3e9cd8b",
   "metadata": {},
   "outputs": [],
   "source": [
    "WIDTH = 135\n",
    "HEIGHT = 40\n",
    "NUM_CHANNELS = 3\n",
    "NUM_LABELS = 10\n",
    "NUM_DIGITS = 4"
   ]
  },
  {
   "cell_type": "markdown",
   "id": "548e8280-f62e-492b-82f3-f05ba0af7cca",
   "metadata": {},
   "source": [
    "## Reshaping our data"
   ]
  },
  {
   "cell_type": "markdown",
   "id": "5b9dba5e-b7af-4096-aeed-33a7c981a88c",
   "metadata": {},
   "source": [
    "In the model input fitting, we have to parse our data into a 4-dimensional tensor: (number of samples, height, width, number of channels). We need to do `reshape` and type parsing for the sake of correct modelling."
   ]
  },
  {
   "cell_type": "code",
   "execution_count": 180,
   "id": "1b414f6f-3a57-406a-afed-df99aba7e1e6",
   "metadata": {},
   "outputs": [],
   "source": [
    "X_train = X_train.reshape(X_train.shape[0], HEIGHT, WIDTH, NUM_CHANNELS).astype(\"float32\")\n",
    "X_test = X_test.reshape(X_test.shape[0], HEIGHT, WIDTH, NUM_CHANNELS).astype(\"float32\")"
   ]
  },
  {
   "cell_type": "code",
   "execution_count": 181,
   "id": "ff3680bd-0ded-43f2-a296-ed7b82238eaa",
   "metadata": {},
   "outputs": [
    {
     "data": {
      "text/plain": [
       "(401, 40, 135, 3)"
      ]
     },
     "execution_count": 181,
     "metadata": {},
     "output_type": "execute_result"
    }
   ],
   "source": [
    "X_test.shape"
   ]
  },
  {
   "cell_type": "code",
   "execution_count": 182,
   "id": "278678f9-ba29-49a1-8e0a-ae741b43b8ae",
   "metadata": {},
   "outputs": [
    {
     "data": {
      "text/plain": [
       "(1600, 40, 135, 3)"
      ]
     },
     "execution_count": 182,
     "metadata": {},
     "output_type": "execute_result"
    }
   ],
   "source": [
    "X_train.shape"
   ]
  },
  {
   "cell_type": "markdown",
   "id": "7062c0b3-31d1-4e09-af9d-c1d9e22b222c",
   "metadata": {},
   "source": [
    "Now our data are in the correct dimension to be fit into our model."
   ]
  },
  {
   "cell_type": "markdown",
   "id": "c93096a6-de1b-4cc8-bb62-0360902d1563",
   "metadata": {},
   "source": [
    "## Data Normalization"
   ]
  },
  {
   "cell_type": "markdown",
   "id": "7d499667-cf54-4b74-898f-d363498f2be2",
   "metadata": {},
   "source": [
    "We can see that all of our data are **positive integers** and their value are much larger than 1. These large values will contribute to the diminishing gradient from our activation function and is not a good sign as our model cannot learn effectively. Thus, we need to **normalize** our data from 0 to 255 to from 0 to 1."
   ]
  },
  {
   "cell_type": "code",
   "execution_count": 183,
   "id": "630b535b-61a0-4cbb-b95a-5f8aa3996a94",
   "metadata": {},
   "outputs": [],
   "source": [
    "X_train /= 255\n",
    "X_test /= 255"
   ]
  },
  {
   "cell_type": "code",
   "execution_count": 184,
   "id": "5ff681de-180d-4158-9620-c9e0bcafe7ba",
   "metadata": {},
   "outputs": [
    {
     "data": {
      "text/plain": [
       "array([[[[0.8       , 0.6666667 , 0.8       ],\n",
       "         [0.8       , 0.6666667 , 0.8       ],\n",
       "         [0.8       , 0.7058824 , 0.8       ],\n",
       "         ...,\n",
       "         [0.8       , 0.78039217, 0.8       ],\n",
       "         [0.8       , 0.8352941 , 0.8       ],\n",
       "         [0.8       , 0.8352941 , 0.8       ]],\n",
       "\n",
       "        [[0.8       , 0.6862745 , 0.8       ],\n",
       "         [0.8       , 0.6862745 , 0.8       ],\n",
       "         [0.8039216 , 0.7294118 , 0.8039216 ],\n",
       "         ...,\n",
       "         [0.8039216 , 0.78039217, 0.7882353 ],\n",
       "         [0.8       , 0.8117647 , 0.77254903],\n",
       "         [0.8       , 0.8117647 , 0.77254903]],\n",
       "\n",
       "        [[0.8       , 0.76862746, 0.8       ],\n",
       "         [0.8       , 0.76862746, 0.8       ],\n",
       "         [0.827451  , 0.8117647 , 0.827451  ],\n",
       "         ...,\n",
       "         [0.8352941 , 0.77254903, 0.7529412 ],\n",
       "         [0.8       , 0.7294118 , 0.6745098 ],\n",
       "         [0.8       , 0.7294118 , 0.6745098 ]],\n",
       "\n",
       "        ...,\n",
       "\n",
       "        [[0.8       , 0.76862746, 0.8       ],\n",
       "         [0.8       , 0.76862746, 0.8       ],\n",
       "         [0.827451  , 0.8117647 , 0.8117647 ],\n",
       "         ...,\n",
       "         [0.78431374, 0.8235294 , 0.8117647 ],\n",
       "         [0.72156864, 0.76862746, 0.8       ],\n",
       "         [0.72156864, 0.76862746, 0.8       ]],\n",
       "\n",
       "        [[0.8       , 0.69803923, 0.8       ],\n",
       "         [0.8       , 0.69803923, 0.8       ],\n",
       "         [0.80784315, 0.7372549 , 0.76862746],\n",
       "         ...,\n",
       "         [0.69803923, 0.7490196 , 0.7607843 ],\n",
       "         [0.63529414, 0.69803923, 0.8       ],\n",
       "         [0.63529414, 0.69803923, 0.8       ]],\n",
       "\n",
       "        [[0.8       , 0.6666667 , 0.8       ],\n",
       "         [0.8       , 0.6666667 , 0.8       ],\n",
       "         [0.8       , 0.7058824 , 0.7490196 ],\n",
       "         ...,\n",
       "         [0.65882355, 0.7176471 , 0.7372549 ],\n",
       "         [0.6       , 0.6666667 , 0.8       ],\n",
       "         [0.6       , 0.6666667 , 0.8       ]]],\n",
       "\n",
       "\n",
       "       [[[0.8       , 0.6666667 , 0.8       ],\n",
       "         [0.8       , 0.6666667 , 0.8       ],\n",
       "         [0.8       , 0.7058824 , 0.8       ],\n",
       "         ...,\n",
       "         [0.8       , 0.78039217, 0.8       ],\n",
       "         [0.8       , 0.8352941 , 0.8       ],\n",
       "         [0.8       , 0.8352941 , 0.8       ]],\n",
       "\n",
       "        [[0.8       , 0.6862745 , 0.8       ],\n",
       "         [0.8       , 0.6862745 , 0.8       ],\n",
       "         [0.8039216 , 0.7294118 , 0.8039216 ],\n",
       "         ...,\n",
       "         [0.8039216 , 0.78039217, 0.8039216 ],\n",
       "         [0.8       , 0.8117647 , 0.8       ],\n",
       "         [0.8       , 0.8117647 , 0.8       ]],\n",
       "\n",
       "        [[0.8       , 0.76862746, 0.8       ],\n",
       "         [0.8       , 0.76862746, 0.8       ],\n",
       "         [0.827451  , 0.8117647 , 0.827451  ],\n",
       "         ...,\n",
       "         [0.8352941 , 0.77254903, 0.8352941 ],\n",
       "         [0.8       , 0.7294118 , 0.8       ],\n",
       "         [0.8       , 0.7294118 , 0.8       ]],\n",
       "\n",
       "        ...,\n",
       "\n",
       "        [[0.6745098 , 0.76862746, 0.8       ],\n",
       "         [0.6745098 , 0.76862746, 0.8       ],\n",
       "         [0.7372549 , 0.8117647 , 0.8117647 ],\n",
       "         ...,\n",
       "         [0.78431374, 0.8039216 , 0.8352941 ],\n",
       "         [0.72156864, 0.76862746, 0.8       ],\n",
       "         [0.72156864, 0.76862746, 0.8       ]],\n",
       "\n",
       "        [[0.7607843 , 0.69803923, 0.8       ],\n",
       "         [0.7607843 , 0.69803923, 0.8       ],\n",
       "         [0.78039217, 0.7372549 , 0.76862746],\n",
       "         ...,\n",
       "         [0.69803923, 0.7058824 , 0.80784315],\n",
       "         [0.63529414, 0.69803923, 0.8       ],\n",
       "         [0.63529414, 0.69803923, 0.8       ]],\n",
       "\n",
       "        [[0.8       , 0.6666667 , 0.8       ],\n",
       "         [0.8       , 0.6666667 , 0.8       ],\n",
       "         [0.8       , 0.7058824 , 0.7490196 ],\n",
       "         ...,\n",
       "         [0.65882355, 0.6666667 , 0.8       ],\n",
       "         [0.6       , 0.6666667 , 0.8       ],\n",
       "         [0.6       , 0.6666667 , 0.8       ]]],\n",
       "\n",
       "\n",
       "       [[[0.8       , 0.6666667 , 0.8       ],\n",
       "         [0.8       , 0.6666667 , 0.8       ],\n",
       "         [0.8       , 0.7058824 , 0.8       ],\n",
       "         ...,\n",
       "         [0.8       , 0.78039217, 0.8       ],\n",
       "         [0.8       , 0.8352941 , 0.8       ],\n",
       "         [0.8       , 0.8352941 , 0.8       ]],\n",
       "\n",
       "        [[0.8       , 0.6862745 , 0.8       ],\n",
       "         [0.8       , 0.6862745 , 0.8       ],\n",
       "         [0.7921569 , 0.7058824 , 0.78431374],\n",
       "         ...,\n",
       "         [0.8039216 , 0.78039217, 0.8039216 ],\n",
       "         [0.8       , 0.8117647 , 0.8       ],\n",
       "         [0.8       , 0.8117647 , 0.8       ]],\n",
       "\n",
       "        [[0.8       , 0.76862746, 0.8       ],\n",
       "         [0.8       , 0.76862746, 0.8       ],\n",
       "         [0.76862746, 0.7058824 , 0.7372549 ],\n",
       "         ...,\n",
       "         [0.8352941 , 0.77254903, 0.8352941 ],\n",
       "         [0.8       , 0.7294118 , 0.8       ],\n",
       "         [0.8       , 0.7294118 , 0.8       ]],\n",
       "\n",
       "        ...,\n",
       "\n",
       "        [[0.6745098 , 0.76862746, 0.6745098 ],\n",
       "         [0.6745098 , 0.76862746, 0.6745098 ],\n",
       "         [0.7058824 , 0.7607843 , 0.7058824 ],\n",
       "         ...,\n",
       "         [0.6431373 , 0.627451  , 0.627451  ],\n",
       "         [0.8       , 0.76862746, 0.72156864],\n",
       "         [0.8       , 0.76862746, 0.72156864]],\n",
       "\n",
       "        [[0.7607843 , 0.69803923, 0.7607843 ],\n",
       "         [0.7607843 , 0.69803923, 0.7607843 ],\n",
       "         [0.76862746, 0.72156864, 0.76862746],\n",
       "         ...,\n",
       "         [0.7529412 , 0.6901961 , 0.6509804 ],\n",
       "         [0.8       , 0.69803923, 0.63529414],\n",
       "         [0.8       , 0.69803923, 0.63529414]],\n",
       "\n",
       "        [[0.8       , 0.6666667 , 0.8       ],\n",
       "         [0.8       , 0.6666667 , 0.8       ],\n",
       "         [0.8       , 0.7058824 , 0.8       ],\n",
       "         ...,\n",
       "         [0.8       , 0.7176471 , 0.65882355],\n",
       "         [0.8       , 0.6666667 , 0.6       ],\n",
       "         [0.8       , 0.6666667 , 0.6       ]]]], dtype=float32)"
      ]
     },
     "execution_count": 184,
     "metadata": {},
     "output_type": "execute_result"
    }
   ],
   "source": [
    "X_train[:3]"
   ]
  },
  {
   "cell_type": "markdown",
   "id": "930c1ff9-8f7f-4ef6-a2dc-d137d66039ac",
   "metadata": {},
   "source": [
    "Now our data is also normalized. Our feature data are finally correct."
   ]
  },
  {
   "cell_type": "markdown",
   "id": "e6ba0d59-568c-4db2-bd58-ac3cb2f83d49",
   "metadata": {},
   "source": [
    "## Processing the target data"
   ]
  },
  {
   "cell_type": "code",
   "execution_count": 185,
   "id": "072b452a-7f38-440d-bd34-e922ef0fef2d",
   "metadata": {},
   "outputs": [
    {
     "data": {
      "text/plain": [
       "array(['3907', '7262', '6576', ..., '9128', '5819', '1307'], dtype=object)"
      ]
     },
     "execution_count": 185,
     "metadata": {},
     "output_type": "execute_result"
    }
   ],
   "source": [
    "_y_train"
   ]
  },
  {
   "cell_type": "code",
   "execution_count": 186,
   "id": "9c297c41-1bcc-4dd6-8fa0-18ab87714a5e",
   "metadata": {},
   "outputs": [
    {
     "data": {
      "text/plain": [
       "array(['7379', '6747', '4604', '4786', '9386', '6400', '4386', '8302',\n",
       "       '5016', '1685', '8334', '9736', '7887', '3196', '9434', '2334',\n",
       "       '9981', '3771', '7026', '8557', '1560', '7318', '6755', '1879',\n",
       "       '4245', '6844', '2637', '6684', '4988', '0542', '8861', '2128',\n",
       "       '7165', '9693', '7221', '8186', '0555', '3575', '9149', '9460',\n",
       "       '1801', '8775', '7435', '3148', '0810', '5587', '3910', '2966',\n",
       "       '6564', '1655', '7182', '3883', '8432', '6413', '3366', '5463',\n",
       "       '1621', '8658', '0084', '5531', '3760', '1327', '4014', '1964',\n",
       "       '0807', '3953', '5244', '8484', '9183', '9715', '6322', '1951',\n",
       "       '8919', '6291', '8382', '9461', '0780', '2138', '7677', '0510',\n",
       "       '3483', '1230', '2178', '4956', '5754', '0319', '4200', '8115',\n",
       "       '2499', '9169', '6751', '7792', '6208', '8874', '3125', '4173',\n",
       "       '7160', '0791', '4983', '8423', '3008', '5423', '8615', '4665',\n",
       "       '7989', '8917', '3163', '0459', '3042', '9768', '4575', '2286',\n",
       "       '6083', '6816', '5707', '5880', '3193', '0229', '7099', '9149',\n",
       "       '5515', '2936', '0293', '6368', '4846', '8374', '8955', '1332',\n",
       "       '7081', '7426', '4564', '9005', '8943', '8068', '5103', '8171',\n",
       "       '1077', '5973', '1427', '0722', '5870', '8637', '4390', '4963',\n",
       "       '3088', '6538', '6558', '4465', '2738', '6777', '6519', '8246',\n",
       "       '6759', '4925', '9496', '3053', '1571', '6847', '3809', '9066',\n",
       "       '1217', '4741', '5091', '7955', '2321', '1605', '7400', '3744',\n",
       "       '5217', '9934', '9666', '9059', '7483', '8927', '0580', '0066',\n",
       "       '7367', '5706', '8238', '9108', '1602', '5418', '0612', '0644',\n",
       "       '8477', '5518', '1930', '2945', '2516', '9967', '9650', '4900',\n",
       "       '3411', '1813', '3794', '8345', '6687', '3715', '8904', '3101',\n",
       "       '4951', '4355', '9632', '3077', '6660', '9381', '5106', '6867',\n",
       "       '1246', '4848', '9323', '0089', '5021', '0894', '8367', '7371',\n",
       "       '8532', '9280', '7178', '5407', '3875', '4416', '2842', '0240',\n",
       "       '1604', '7471', '9612', '8920', '4750', '6402', '7010', '9419',\n",
       "       '1096', '1985', '0321', '3752', '4586', '3876', '6914', '7503',\n",
       "       '7386', '2783', '8157', '8235', '1849', '1054', '8176', '8202',\n",
       "       '9904', '6582', '5804', '1305', '1711', '8845', '5045', '7720',\n",
       "       '6548', '2646', '6622', '5039', '1330', '1759', '2689', '4485',\n",
       "       '3858', '1471', '2856', '2908', '3909', '0589', '8013', '3209',\n",
       "       '7826', '5669', '7933', '7160', '7359', '0091', '6956', '9616',\n",
       "       '3054', '9186', '0156', '3516', '7045', '5685', '1804', '3003',\n",
       "       '2426', '1708', '3391', '3448', '2018', '9092', '7412', '9624',\n",
       "       '8998', '3320', '4916', '4595', '9480', '9939', '7448', '6033',\n",
       "       '5055', '5232', '4963', '2743', '4836', '4316', '3524', '3731',\n",
       "       '2135', '5558', '9784', '7934', '7113', '2061', '8877', '2160',\n",
       "       '3456', '7430', '2030', '7939', '4447', '3083', '3701', '8262',\n",
       "       '7486', '6759', '4421', '9088', '3292', '8978', '3297', '0485',\n",
       "       '1499', '8589', '2892', '1768', '6525', '0420', '5150', '0982',\n",
       "       '7861', '9769', '7672', '5703', '0947', '7014', '5674', '1413',\n",
       "       '5685', '6855', '9280', '3142', '0385', '0852', '9978', '8720',\n",
       "       '0798', '6076', '0930', '0655', '5414', '2140', '8828', '8174',\n",
       "       '0255', '4357', '6754', '0744', '9691', '4209', '5379', '7200',\n",
       "       '1269', '2388', '1875', '1331', '8566', '2005', '7248', '9482',\n",
       "       '1796', '7909', '8314', '7665', '8466', '7770', '8396', '4311',\n",
       "       '0552', '3167', '0031', '8116', '1776', '8857', '3250', '0696',\n",
       "       '4740'], dtype=object)"
      ]
     },
     "execution_count": 186,
     "metadata": {},
     "output_type": "execute_result"
    }
   ],
   "source": [
    "_y_test"
   ]
  },
  {
   "cell_type": "markdown",
   "id": "5f337043-b27c-4366-b28b-7c700e63e14b",
   "metadata": {},
   "source": [
    "Now our targeted data is in the form of **4-digit text** as we need to produce the trailing 0. We can then produce a $4\\times 10$ matrix for **softmax** layer."
   ]
  },
  {
   "cell_type": "code",
   "execution_count": 187,
   "id": "83277c30-684e-427d-b90c-ba86a7f36958",
   "metadata": {},
   "outputs": [],
   "source": [
    "def parse_digit_text_to_category(digitText):\n",
    "    digitOneHotList = []\n",
    "    for digit in digitText: # We need to split each text and create an one-hot label.\n",
    "        digitOneHotList.append(to_categorical(digit, num_classes = NUM_LABELS))\n",
    "    return np.array(digitOneHotList)\n",
    "        "
   ]
  },
  {
   "cell_type": "markdown",
   "id": "1ec4e1d3-b7a1-4af1-b8eb-5709c8728dde",
   "metadata": {},
   "source": [
    "Let's have a look on the parsing."
   ]
  },
  {
   "cell_type": "code",
   "execution_count": 188,
   "id": "73c63270-4e73-43ec-a54f-2694bcbd4806",
   "metadata": {},
   "outputs": [
    {
     "data": {
      "text/plain": [
       "array([[1., 0., 0., 0., 0., 0., 0., 0., 0., 0.],\n",
       "       [0., 0., 1., 0., 0., 0., 0., 0., 0., 0.],\n",
       "       [0., 0., 0., 0., 1., 0., 0., 0., 0., 0.],\n",
       "       [0., 0., 0., 0., 0., 1., 0., 0., 0., 0.]], dtype=float32)"
      ]
     },
     "execution_count": 188,
     "metadata": {},
     "output_type": "execute_result"
    }
   ],
   "source": [
    "parse_digit_text_to_category('0245')"
   ]
  },
  {
   "cell_type": "markdown",
   "id": "f01d891c-592d-4c14-b8f1-5069c5bc86cd",
   "metadata": {},
   "source": [
    "We can see that it is producing the correct result."
   ]
  },
  {
   "cell_type": "code",
   "execution_count": 189,
   "id": "e88574d8-4f63-4dfd-b43c-5248ef6b3cac",
   "metadata": {},
   "outputs": [],
   "source": [
    "y_train = []\n",
    "y_test = []"
   ]
  },
  {
   "cell_type": "code",
   "execution_count": 190,
   "id": "1fa017dc-b56d-45d2-9edd-662dbc3ab04a",
   "metadata": {},
   "outputs": [],
   "source": [
    "for trainTargetData in _y_train:\n",
    "    y_train.append(parse_digit_text_to_category(trainTargetData))"
   ]
  },
  {
   "cell_type": "code",
   "execution_count": 191,
   "id": "13632b35-abd3-4c3e-bc1e-a3abb1866e4b",
   "metadata": {},
   "outputs": [],
   "source": [
    "y_train = np.array(y_train)"
   ]
  },
  {
   "cell_type": "code",
   "execution_count": 192,
   "id": "163d9d10-1e62-46c0-b1ed-461efb8f5db9",
   "metadata": {},
   "outputs": [
    {
     "data": {
      "text/plain": [
       "array([[[0., 0., 0., 1., 0., 0., 0., 0., 0., 0.],\n",
       "        [0., 0., 0., 0., 0., 0., 0., 0., 0., 1.],\n",
       "        [1., 0., 0., 0., 0., 0., 0., 0., 0., 0.],\n",
       "        [0., 0., 0., 0., 0., 0., 0., 1., 0., 0.]],\n",
       "\n",
       "       [[0., 0., 0., 0., 0., 0., 0., 1., 0., 0.],\n",
       "        [0., 0., 1., 0., 0., 0., 0., 0., 0., 0.],\n",
       "        [0., 0., 0., 0., 0., 0., 1., 0., 0., 0.],\n",
       "        [0., 0., 1., 0., 0., 0., 0., 0., 0., 0.]],\n",
       "\n",
       "       [[0., 0., 0., 0., 0., 0., 1., 0., 0., 0.],\n",
       "        [0., 0., 0., 0., 0., 1., 0., 0., 0., 0.],\n",
       "        [0., 0., 0., 0., 0., 0., 0., 1., 0., 0.],\n",
       "        [0., 0., 0., 0., 0., 0., 1., 0., 0., 0.]]], dtype=float32)"
      ]
     },
     "execution_count": 192,
     "metadata": {},
     "output_type": "execute_result"
    }
   ],
   "source": [
    "y_train[:3]"
   ]
  },
  {
   "cell_type": "markdown",
   "id": "35eaf93d-0ef6-4c31-ba28-b4f0714c0328",
   "metadata": {},
   "source": [
    "The first 3 `y_train` data are `8438`, `2750` and `3949`."
   ]
  },
  {
   "cell_type": "code",
   "execution_count": 193,
   "id": "843703a3-aa4f-4e9f-944e-801720220690",
   "metadata": {},
   "outputs": [],
   "source": [
    "for testTargetData in _y_test:\n",
    "    y_test.append(parse_digit_text_to_category(testTargetData))"
   ]
  },
  {
   "cell_type": "code",
   "execution_count": 194,
   "id": "f4bbaeec-2f69-4464-ac08-13d65bfe1262",
   "metadata": {},
   "outputs": [],
   "source": [
    "y_test = np.array(y_test)"
   ]
  },
  {
   "cell_type": "code",
   "execution_count": 195,
   "id": "bf24758f-8fda-41fe-ad87-c8de3106f177",
   "metadata": {},
   "outputs": [
    {
     "data": {
      "text/plain": [
       "array([[[0., 0., 0., 0., 0., 0., 0., 1., 0., 0.],\n",
       "        [0., 0., 0., 1., 0., 0., 0., 0., 0., 0.],\n",
       "        [0., 0., 0., 0., 0., 0., 0., 1., 0., 0.],\n",
       "        [0., 0., 0., 0., 0., 0., 0., 0., 0., 1.]],\n",
       "\n",
       "       [[0., 0., 0., 0., 0., 0., 1., 0., 0., 0.],\n",
       "        [0., 0., 0., 0., 0., 0., 0., 1., 0., 0.],\n",
       "        [0., 0., 0., 0., 1., 0., 0., 0., 0., 0.],\n",
       "        [0., 0., 0., 0., 0., 0., 0., 1., 0., 0.]],\n",
       "\n",
       "       [[0., 0., 0., 0., 1., 0., 0., 0., 0., 0.],\n",
       "        [0., 0., 0., 0., 0., 0., 1., 0., 0., 0.],\n",
       "        [1., 0., 0., 0., 0., 0., 0., 0., 0., 0.],\n",
       "        [0., 0., 0., 0., 1., 0., 0., 0., 0., 0.]]], dtype=float32)"
      ]
     },
     "execution_count": 195,
     "metadata": {},
     "output_type": "execute_result"
    }
   ],
   "source": [
    "y_test[:3]"
   ]
  },
  {
   "cell_type": "code",
   "execution_count": 196,
   "id": "e070ae3e-9f86-412a-ae2e-014dcac4cc2d",
   "metadata": {},
   "outputs": [
    {
     "data": {
      "text/plain": [
       "(1600, 4, 10)"
      ]
     },
     "execution_count": 196,
     "metadata": {},
     "output_type": "execute_result"
    }
   ],
   "source": [
    "y_train.shape"
   ]
  },
  {
   "cell_type": "code",
   "execution_count": 197,
   "id": "80b9511d-041e-41e9-8406-69ffd55a4251",
   "metadata": {},
   "outputs": [
    {
     "data": {
      "text/plain": [
       "(401, 4, 10)"
      ]
     },
     "execution_count": 197,
     "metadata": {},
     "output_type": "execute_result"
    }
   ],
   "source": [
    "y_test.shape"
   ]
  },
  {
   "cell_type": "markdown",
   "id": "6e70d7a8-4452-4436-8a2b-d6cce18231a0",
   "metadata": {},
   "source": [
    "Finally, we have done all the data pre-processing and we can now proceed to the model training section."
   ]
  },
  {
   "cell_type": "markdown",
   "id": "5318d068-7eaa-4c31-ae0d-d69da035aa6b",
   "metadata": {},
   "source": [
    "---"
   ]
  },
  {
   "cell_type": "markdown",
   "id": "eaef2926-cf56-4ff6-912a-2705d2fd60fb",
   "metadata": {},
   "source": [
    "# Model Selection and Building"
   ]
  },
  {
   "cell_type": "markdown",
   "id": "4e916a9a-be15-4040-8605-8b70dd974d64",
   "metadata": {},
   "source": [
    "## CNN Sequential Model"
   ]
  },
  {
   "cell_type": "markdown",
   "id": "8808bb5c-a25a-4712-8518-002448166271",
   "metadata": {},
   "source": [
    "In this project, we will use the CNN `Conv2D` model with pooling layer twice with fully connected layer for classification."
   ]
  },
  {
   "cell_type": "code",
   "execution_count": 205,
   "id": "103dde73-3281-4d64-9679-a96e60086abc",
   "metadata": {},
   "outputs": [],
   "source": [
    "from tensorflow.keras.layers import Conv2D, MaxPooling2D, Flatten, Reshape"
   ]
  },
  {
   "cell_type": "markdown",
   "id": "f1502648-abfb-469f-9c04-499626deb74f",
   "metadata": {},
   "source": [
    "### Model 1"
   ]
  },
  {
   "cell_type": "code",
   "execution_count": 206,
   "id": "aa5a3cba-f1b3-450e-a16e-3a0e7c30f036",
   "metadata": {},
   "outputs": [],
   "source": [
    "kernelSize1 = 5\n",
    "poolSize1 = 2"
   ]
  },
  {
   "cell_type": "code",
   "execution_count": 208,
   "id": "4b723ab8-ca4a-4198-b966-296af6dc4d92",
   "metadata": {},
   "outputs": [
    {
     "name": "stderr",
     "output_type": "stream",
     "text": [
      "2022-01-05 01:43:46.337604: I tensorflow/stream_executor/cuda/cuda_gpu_executor.cc:939] successful NUMA node read from SysFS had negative value (-1), but there must be at least one NUMA node, so returning NUMA node zero\n",
      "2022-01-05 01:43:46.736499: I tensorflow/stream_executor/cuda/cuda_gpu_executor.cc:939] successful NUMA node read from SysFS had negative value (-1), but there must be at least one NUMA node, so returning NUMA node zero\n",
      "2022-01-05 01:43:46.737481: I tensorflow/stream_executor/cuda/cuda_gpu_executor.cc:939] successful NUMA node read from SysFS had negative value (-1), but there must be at least one NUMA node, so returning NUMA node zero\n",
      "2022-01-05 01:43:46.787823: I tensorflow/core/platform/cpu_feature_guard.cc:151] This TensorFlow binary is optimized with oneAPI Deep Neural Network Library (oneDNN) to use the following CPU instructions in performance-critical operations:  AVX2 FMA\n",
      "To enable them in other operations, rebuild TensorFlow with the appropriate compiler flags.\n",
      "2022-01-05 01:43:46.809227: I tensorflow/stream_executor/cuda/cuda_gpu_executor.cc:939] successful NUMA node read from SysFS had negative value (-1), but there must be at least one NUMA node, so returning NUMA node zero\n",
      "2022-01-05 01:43:46.810036: I tensorflow/stream_executor/cuda/cuda_gpu_executor.cc:939] successful NUMA node read from SysFS had negative value (-1), but there must be at least one NUMA node, so returning NUMA node zero\n",
      "2022-01-05 01:43:46.810799: I tensorflow/stream_executor/cuda/cuda_gpu_executor.cc:939] successful NUMA node read from SysFS had negative value (-1), but there must be at least one NUMA node, so returning NUMA node zero\n",
      "2022-01-05 01:43:49.614139: I tensorflow/stream_executor/cuda/cuda_gpu_executor.cc:939] successful NUMA node read from SysFS had negative value (-1), but there must be at least one NUMA node, so returning NUMA node zero\n",
      "2022-01-05 01:43:49.614790: I tensorflow/stream_executor/cuda/cuda_gpu_executor.cc:939] successful NUMA node read from SysFS had negative value (-1), but there must be at least one NUMA node, so returning NUMA node zero\n",
      "2022-01-05 01:43:49.615378: I tensorflow/stream_executor/cuda/cuda_gpu_executor.cc:939] successful NUMA node read from SysFS had negative value (-1), but there must be at least one NUMA node, so returning NUMA node zero\n",
      "2022-01-05 01:43:49.615932: I tensorflow/core/common_runtime/gpu/gpu_device.cc:1525] Created device /job:localhost/replica:0/task:0/device:GPU:0 with 9823 MB memory:  -> device: 0, name: NVIDIA GeForce RTX 3060, pci bus id: 0000:0b:00.0, compute capability: 8.6\n"
     ]
    }
   ],
   "source": [
    "model1 = Sequential(\n",
    "    [\n",
    "        Conv2D(16, kernel_size=(kernelSize1,kernelSize1), padding = 'same', input_shape = (HEIGHT, WIDTH, NUM_CHANNELS), activation = 'relu'),\n",
    "        MaxPooling2D(pool_size = (poolSize1,poolSize1)),\n",
    "        Conv2D(32, kernel_size = (kernelSize1, kernelSize1), padding = 'same', activation = 'relu'),\n",
    "        MaxPooling2D(pool_size=(poolSize1, poolSize1)),\n",
    "        Dropout(0.5),\n",
    "        Flatten(), ## Need to flatten the pooled feature map into 1D feature array to fit in the fully connected layer.\n",
    "        Dense(128, activation = 'relu'),\n",
    "        Dropout(0.5),\n",
    "        Dense(NUM_LABELS*NUM_DIGITS, activation = 'softmax'),\n",
    "        Reshape((NUM_DIGITS, NUM_LABELS))\n",
    "    ]\n",
    ")"
   ]
  },
  {
   "cell_type": "code",
   "execution_count": 209,
   "id": "5b0cc4f3-66ee-48ef-accd-ed37f4152889",
   "metadata": {},
   "outputs": [],
   "source": [
    "model1.compile(loss = 'categorical_crossentropy', metrics= ['accuracy'], optimizer = 'adam')"
   ]
  },
  {
   "cell_type": "code",
   "execution_count": 210,
   "id": "c7051fcd-28ab-42de-a657-eb32df4fbda9",
   "metadata": {},
   "outputs": [
    {
     "name": "stdout",
     "output_type": "stream",
     "text": [
      "Epoch 1/100\n"
     ]
    },
    {
     "name": "stderr",
     "output_type": "stream",
     "text": [
      "2022-01-05 01:44:55.882805: E tensorflow/stream_executor/cuda/cuda_dnn.cc:359] Loaded runtime CuDNN library: 8.0.5 but source was compiled with: 8.1.0.  CuDNN library needs to have matching major version and equal or higher minor version. If using a binary install, upgrade your CuDNN library.  If building from sources, make sure the library loaded at runtime is compatible with the version specified during compile configuration.\n",
      "2022-01-05 01:44:55.884126: W tensorflow/core/framework/op_kernel.cc:1745] OP_REQUIRES failed at conv_ops_fused_impl.h:560 : UNKNOWN: Failed to get convolution algorithm. This is probably because cuDNN failed to initialize, so try looking to see if a warning log message was printed above.\n"
     ]
    },
    {
     "ename": "UnknownError",
     "evalue": " Failed to get convolution algorithm. This is probably because cuDNN failed to initialize, so try looking to see if a warning log message was printed above.\n\t [[node sequential/conv2d_8/Relu\n (defined at /venv/lib/python3.9/site-packages/keras/backend.py:4867)\n]] [Op:__inference_train_function_942]\n\nErrors may have originated from an input operation.\nInput Source operations connected to node sequential/conv2d_8/Relu:\nIn[0] sequential/conv2d_8/BiasAdd (defined at /venv/lib/python3.9/site-packages/keras/layers/convolutional.py:264)\n\nOperation defined at: (most recent call last)\n>>>   File \"/usr/lib/python3.9/runpy.py\", line 197, in _run_module_as_main\n>>>     return _run_code(code, main_globals, None,\n>>> \n>>>   File \"/usr/lib/python3.9/runpy.py\", line 87, in _run_code\n>>>     exec(code, run_globals)\n>>> \n>>>   File \"/venv/lib/python3.9/site-packages/ipykernel_launcher.py\", line 16, in <module>\n>>>     app.launch_new_instance()\n>>> \n>>>   File \"/venv/lib/python3.9/site-packages/traitlets/config/application.py\", line 846, in launch_instance\n>>>     app.start()\n>>> \n>>>   File \"/venv/lib/python3.9/site-packages/ipykernel/kernelapp.py\", line 677, in start\n>>>     self.io_loop.start()\n>>> \n>>>   File \"/venv/lib/python3.9/site-packages/tornado/platform/asyncio.py\", line 199, in start\n>>>     self.asyncio_loop.run_forever()\n>>> \n>>>   File \"/usr/lib/python3.9/asyncio/base_events.py\", line 596, in run_forever\n>>>     self._run_once()\n>>> \n>>>   File \"/usr/lib/python3.9/asyncio/base_events.py\", line 1890, in _run_once\n>>>     handle._run()\n>>> \n>>>   File \"/usr/lib/python3.9/asyncio/events.py\", line 80, in _run\n>>>     self._context.run(self._callback, *self._args)\n>>> \n>>>   File \"/venv/lib/python3.9/site-packages/ipykernel/kernelbase.py\", line 457, in dispatch_queue\n>>>     await self.process_one()\n>>> \n>>>   File \"/venv/lib/python3.9/site-packages/ipykernel/kernelbase.py\", line 446, in process_one\n>>>     await dispatch(*args)\n>>> \n>>>   File \"/venv/lib/python3.9/site-packages/ipykernel/kernelbase.py\", line 353, in dispatch_shell\n>>>     await result\n>>> \n>>>   File \"/venv/lib/python3.9/site-packages/ipykernel/kernelbase.py\", line 648, in execute_request\n>>>     reply_content = await reply_content\n>>> \n>>>   File \"/venv/lib/python3.9/site-packages/ipykernel/ipkernel.py\", line 353, in do_execute\n>>>     res = shell.run_cell(code, store_history=store_history, silent=silent)\n>>> \n>>>   File \"/venv/lib/python3.9/site-packages/ipykernel/zmqshell.py\", line 533, in run_cell\n>>>     return super(ZMQInteractiveShell, self).run_cell(*args, **kwargs)\n>>> \n>>>   File \"/venv/lib/python3.9/site-packages/IPython/core/interactiveshell.py\", line 2914, in run_cell\n>>>     result = self._run_cell(\n>>> \n>>>   File \"/venv/lib/python3.9/site-packages/IPython/core/interactiveshell.py\", line 2960, in _run_cell\n>>>     return runner(coro)\n>>> \n>>>   File \"/venv/lib/python3.9/site-packages/IPython/core/async_helpers.py\", line 78, in _pseudo_sync_runner\n>>>     coro.send(None)\n>>> \n>>>   File \"/venv/lib/python3.9/site-packages/IPython/core/interactiveshell.py\", line 3185, in run_cell_async\n>>>     has_raised = await self.run_ast_nodes(code_ast.body, cell_name,\n>>> \n>>>   File \"/venv/lib/python3.9/site-packages/IPython/core/interactiveshell.py\", line 3377, in run_ast_nodes\n>>>     if (await self.run_code(code, result,  async_=asy)):\n>>> \n>>>   File \"/venv/lib/python3.9/site-packages/IPython/core/interactiveshell.py\", line 3457, in run_code\n>>>     exec(code_obj, self.user_global_ns, self.user_ns)\n>>> \n>>>   File \"/tmp/ipykernel_242/1839943381.py\", line 1, in <module>\n>>>     history = model1.fit(X_train, y_train, validation_split=0.2, epochs = 100, batch_size = 32)\n>>> \n>>>   File \"/venv/lib/python3.9/site-packages/keras/utils/traceback_utils.py\", line 64, in error_handler\n>>>     return fn(*args, **kwargs)\n>>> \n>>>   File \"/venv/lib/python3.9/site-packages/keras/engine/training.py\", line 1216, in fit\n>>>     tmp_logs = self.train_function(iterator)\n>>> \n>>>   File \"/venv/lib/python3.9/site-packages/keras/engine/training.py\", line 878, in train_function\n>>>     return step_function(self, iterator)\n>>> \n>>>   File \"/venv/lib/python3.9/site-packages/keras/engine/training.py\", line 867, in step_function\n>>>     outputs = model.distribute_strategy.run(run_step, args=(data,))\n>>> \n>>>   File \"/venv/lib/python3.9/site-packages/keras/engine/training.py\", line 860, in run_step\n>>>     outputs = model.train_step(data)\n>>> \n>>>   File \"/venv/lib/python3.9/site-packages/keras/engine/training.py\", line 808, in train_step\n>>>     y_pred = self(x, training=True)\n>>> \n>>>   File \"/venv/lib/python3.9/site-packages/keras/utils/traceback_utils.py\", line 64, in error_handler\n>>>     return fn(*args, **kwargs)\n>>> \n>>>   File \"/venv/lib/python3.9/site-packages/keras/engine/base_layer.py\", line 1083, in __call__\n>>>     outputs = call_fn(inputs, *args, **kwargs)\n>>> \n>>>   File \"/venv/lib/python3.9/site-packages/keras/utils/traceback_utils.py\", line 92, in error_handler\n>>>     return fn(*args, **kwargs)\n>>> \n>>>   File \"/venv/lib/python3.9/site-packages/keras/engine/sequential.py\", line 373, in call\n>>>     return super(Sequential, self).call(inputs, training=training, mask=mask)\n>>> \n>>>   File \"/venv/lib/python3.9/site-packages/keras/engine/functional.py\", line 451, in call\n>>>     return self._run_internal_graph(\n>>> \n>>>   File \"/venv/lib/python3.9/site-packages/keras/engine/functional.py\", line 589, in _run_internal_graph\n>>>     outputs = node.layer(*args, **kwargs)\n>>> \n>>>   File \"/venv/lib/python3.9/site-packages/keras/utils/traceback_utils.py\", line 64, in error_handler\n>>>     return fn(*args, **kwargs)\n>>> \n>>>   File \"/venv/lib/python3.9/site-packages/keras/engine/base_layer.py\", line 1083, in __call__\n>>>     outputs = call_fn(inputs, *args, **kwargs)\n>>> \n>>>   File \"/venv/lib/python3.9/site-packages/keras/utils/traceback_utils.py\", line 92, in error_handler\n>>>     return fn(*args, **kwargs)\n>>> \n>>>   File \"/venv/lib/python3.9/site-packages/keras/layers/convolutional.py\", line 273, in call\n>>>     return self.activation(outputs)\n>>> \n>>>   File \"/venv/lib/python3.9/site-packages/keras/activations.py\", line 311, in relu\n>>>     return backend.relu(x, alpha=alpha, max_value=max_value, threshold=threshold)\n>>> \n>>>   File \"/venv/lib/python3.9/site-packages/keras/backend.py\", line 4867, in relu\n>>>     x = tf.nn.relu(x)\n>>> ",
     "output_type": "error",
     "traceback": [
      "\u001b[0;31m---------------------------------------------------------------------------\u001b[0m",
      "\u001b[0;31mUnknownError\u001b[0m                              Traceback (most recent call last)",
      "\u001b[0;32m/tmp/ipykernel_242/1839943381.py\u001b[0m in \u001b[0;36m<module>\u001b[0;34m\u001b[0m\n\u001b[0;32m----> 1\u001b[0;31m \u001b[0mhistory\u001b[0m \u001b[0;34m=\u001b[0m \u001b[0mmodel1\u001b[0m\u001b[0;34m.\u001b[0m\u001b[0mfit\u001b[0m\u001b[0;34m(\u001b[0m\u001b[0mX_train\u001b[0m\u001b[0;34m,\u001b[0m \u001b[0my_train\u001b[0m\u001b[0;34m,\u001b[0m \u001b[0mvalidation_split\u001b[0m\u001b[0;34m=\u001b[0m\u001b[0;36m0.2\u001b[0m\u001b[0;34m,\u001b[0m \u001b[0mepochs\u001b[0m \u001b[0;34m=\u001b[0m \u001b[0;36m100\u001b[0m\u001b[0;34m,\u001b[0m \u001b[0mbatch_size\u001b[0m \u001b[0;34m=\u001b[0m \u001b[0;36m32\u001b[0m\u001b[0;34m)\u001b[0m\u001b[0;34m\u001b[0m\u001b[0;34m\u001b[0m\u001b[0m\n\u001b[0m",
      "\u001b[0;32m/venv/lib/python3.9/site-packages/keras/utils/traceback_utils.py\u001b[0m in \u001b[0;36merror_handler\u001b[0;34m(*args, **kwargs)\u001b[0m\n\u001b[1;32m     65\u001b[0m     \u001b[0;32mexcept\u001b[0m \u001b[0mException\u001b[0m \u001b[0;32mas\u001b[0m \u001b[0me\u001b[0m\u001b[0;34m:\u001b[0m  \u001b[0;31m# pylint: disable=broad-except\u001b[0m\u001b[0;34m\u001b[0m\u001b[0;34m\u001b[0m\u001b[0m\n\u001b[1;32m     66\u001b[0m       \u001b[0mfiltered_tb\u001b[0m \u001b[0;34m=\u001b[0m \u001b[0m_process_traceback_frames\u001b[0m\u001b[0;34m(\u001b[0m\u001b[0me\u001b[0m\u001b[0;34m.\u001b[0m\u001b[0m__traceback__\u001b[0m\u001b[0;34m)\u001b[0m\u001b[0;34m\u001b[0m\u001b[0;34m\u001b[0m\u001b[0m\n\u001b[0;32m---> 67\u001b[0;31m       \u001b[0;32mraise\u001b[0m \u001b[0me\u001b[0m\u001b[0;34m.\u001b[0m\u001b[0mwith_traceback\u001b[0m\u001b[0;34m(\u001b[0m\u001b[0mfiltered_tb\u001b[0m\u001b[0;34m)\u001b[0m \u001b[0;32mfrom\u001b[0m \u001b[0;32mNone\u001b[0m\u001b[0;34m\u001b[0m\u001b[0;34m\u001b[0m\u001b[0m\n\u001b[0m\u001b[1;32m     68\u001b[0m     \u001b[0;32mfinally\u001b[0m\u001b[0;34m:\u001b[0m\u001b[0;34m\u001b[0m\u001b[0;34m\u001b[0m\u001b[0m\n\u001b[1;32m     69\u001b[0m       \u001b[0;32mdel\u001b[0m \u001b[0mfiltered_tb\u001b[0m\u001b[0;34m\u001b[0m\u001b[0;34m\u001b[0m\u001b[0m\n",
      "\u001b[0;32m/venv/lib/python3.9/site-packages/tensorflow/python/eager/execute.py\u001b[0m in \u001b[0;36mquick_execute\u001b[0;34m(op_name, num_outputs, inputs, attrs, ctx, name)\u001b[0m\n\u001b[1;32m     56\u001b[0m   \u001b[0;32mtry\u001b[0m\u001b[0;34m:\u001b[0m\u001b[0;34m\u001b[0m\u001b[0;34m\u001b[0m\u001b[0m\n\u001b[1;32m     57\u001b[0m     \u001b[0mctx\u001b[0m\u001b[0;34m.\u001b[0m\u001b[0mensure_initialized\u001b[0m\u001b[0;34m(\u001b[0m\u001b[0;34m)\u001b[0m\u001b[0;34m\u001b[0m\u001b[0;34m\u001b[0m\u001b[0m\n\u001b[0;32m---> 58\u001b[0;31m     tensors = pywrap_tfe.TFE_Py_Execute(ctx._handle, device_name, op_name,\n\u001b[0m\u001b[1;32m     59\u001b[0m                                         inputs, attrs, num_outputs)\n\u001b[1;32m     60\u001b[0m   \u001b[0;32mexcept\u001b[0m \u001b[0mcore\u001b[0m\u001b[0;34m.\u001b[0m\u001b[0m_NotOkStatusException\u001b[0m \u001b[0;32mas\u001b[0m \u001b[0me\u001b[0m\u001b[0;34m:\u001b[0m\u001b[0;34m\u001b[0m\u001b[0;34m\u001b[0m\u001b[0m\n",
      "\u001b[0;31mUnknownError\u001b[0m:  Failed to get convolution algorithm. This is probably because cuDNN failed to initialize, so try looking to see if a warning log message was printed above.\n\t [[node sequential/conv2d_8/Relu\n (defined at /venv/lib/python3.9/site-packages/keras/backend.py:4867)\n]] [Op:__inference_train_function_942]\n\nErrors may have originated from an input operation.\nInput Source operations connected to node sequential/conv2d_8/Relu:\nIn[0] sequential/conv2d_8/BiasAdd (defined at /venv/lib/python3.9/site-packages/keras/layers/convolutional.py:264)\n\nOperation defined at: (most recent call last)\n>>>   File \"/usr/lib/python3.9/runpy.py\", line 197, in _run_module_as_main\n>>>     return _run_code(code, main_globals, None,\n>>> \n>>>   File \"/usr/lib/python3.9/runpy.py\", line 87, in _run_code\n>>>     exec(code, run_globals)\n>>> \n>>>   File \"/venv/lib/python3.9/site-packages/ipykernel_launcher.py\", line 16, in <module>\n>>>     app.launch_new_instance()\n>>> \n>>>   File \"/venv/lib/python3.9/site-packages/traitlets/config/application.py\", line 846, in launch_instance\n>>>     app.start()\n>>> \n>>>   File \"/venv/lib/python3.9/site-packages/ipykernel/kernelapp.py\", line 677, in start\n>>>     self.io_loop.start()\n>>> \n>>>   File \"/venv/lib/python3.9/site-packages/tornado/platform/asyncio.py\", line 199, in start\n>>>     self.asyncio_loop.run_forever()\n>>> \n>>>   File \"/usr/lib/python3.9/asyncio/base_events.py\", line 596, in run_forever\n>>>     self._run_once()\n>>> \n>>>   File \"/usr/lib/python3.9/asyncio/base_events.py\", line 1890, in _run_once\n>>>     handle._run()\n>>> \n>>>   File \"/usr/lib/python3.9/asyncio/events.py\", line 80, in _run\n>>>     self._context.run(self._callback, *self._args)\n>>> \n>>>   File \"/venv/lib/python3.9/site-packages/ipykernel/kernelbase.py\", line 457, in dispatch_queue\n>>>     await self.process_one()\n>>> \n>>>   File \"/venv/lib/python3.9/site-packages/ipykernel/kernelbase.py\", line 446, in process_one\n>>>     await dispatch(*args)\n>>> \n>>>   File \"/venv/lib/python3.9/site-packages/ipykernel/kernelbase.py\", line 353, in dispatch_shell\n>>>     await result\n>>> \n>>>   File \"/venv/lib/python3.9/site-packages/ipykernel/kernelbase.py\", line 648, in execute_request\n>>>     reply_content = await reply_content\n>>> \n>>>   File \"/venv/lib/python3.9/site-packages/ipykernel/ipkernel.py\", line 353, in do_execute\n>>>     res = shell.run_cell(code, store_history=store_history, silent=silent)\n>>> \n>>>   File \"/venv/lib/python3.9/site-packages/ipykernel/zmqshell.py\", line 533, in run_cell\n>>>     return super(ZMQInteractiveShell, self).run_cell(*args, **kwargs)\n>>> \n>>>   File \"/venv/lib/python3.9/site-packages/IPython/core/interactiveshell.py\", line 2914, in run_cell\n>>>     result = self._run_cell(\n>>> \n>>>   File \"/venv/lib/python3.9/site-packages/IPython/core/interactiveshell.py\", line 2960, in _run_cell\n>>>     return runner(coro)\n>>> \n>>>   File \"/venv/lib/python3.9/site-packages/IPython/core/async_helpers.py\", line 78, in _pseudo_sync_runner\n>>>     coro.send(None)\n>>> \n>>>   File \"/venv/lib/python3.9/site-packages/IPython/core/interactiveshell.py\", line 3185, in run_cell_async\n>>>     has_raised = await self.run_ast_nodes(code_ast.body, cell_name,\n>>> \n>>>   File \"/venv/lib/python3.9/site-packages/IPython/core/interactiveshell.py\", line 3377, in run_ast_nodes\n>>>     if (await self.run_code(code, result,  async_=asy)):\n>>> \n>>>   File \"/venv/lib/python3.9/site-packages/IPython/core/interactiveshell.py\", line 3457, in run_code\n>>>     exec(code_obj, self.user_global_ns, self.user_ns)\n>>> \n>>>   File \"/tmp/ipykernel_242/1839943381.py\", line 1, in <module>\n>>>     history = model1.fit(X_train, y_train, validation_split=0.2, epochs = 100, batch_size = 32)\n>>> \n>>>   File \"/venv/lib/python3.9/site-packages/keras/utils/traceback_utils.py\", line 64, in error_handler\n>>>     return fn(*args, **kwargs)\n>>> \n>>>   File \"/venv/lib/python3.9/site-packages/keras/engine/training.py\", line 1216, in fit\n>>>     tmp_logs = self.train_function(iterator)\n>>> \n>>>   File \"/venv/lib/python3.9/site-packages/keras/engine/training.py\", line 878, in train_function\n>>>     return step_function(self, iterator)\n>>> \n>>>   File \"/venv/lib/python3.9/site-packages/keras/engine/training.py\", line 867, in step_function\n>>>     outputs = model.distribute_strategy.run(run_step, args=(data,))\n>>> \n>>>   File \"/venv/lib/python3.9/site-packages/keras/engine/training.py\", line 860, in run_step\n>>>     outputs = model.train_step(data)\n>>> \n>>>   File \"/venv/lib/python3.9/site-packages/keras/engine/training.py\", line 808, in train_step\n>>>     y_pred = self(x, training=True)\n>>> \n>>>   File \"/venv/lib/python3.9/site-packages/keras/utils/traceback_utils.py\", line 64, in error_handler\n>>>     return fn(*args, **kwargs)\n>>> \n>>>   File \"/venv/lib/python3.9/site-packages/keras/engine/base_layer.py\", line 1083, in __call__\n>>>     outputs = call_fn(inputs, *args, **kwargs)\n>>> \n>>>   File \"/venv/lib/python3.9/site-packages/keras/utils/traceback_utils.py\", line 92, in error_handler\n>>>     return fn(*args, **kwargs)\n>>> \n>>>   File \"/venv/lib/python3.9/site-packages/keras/engine/sequential.py\", line 373, in call\n>>>     return super(Sequential, self).call(inputs, training=training, mask=mask)\n>>> \n>>>   File \"/venv/lib/python3.9/site-packages/keras/engine/functional.py\", line 451, in call\n>>>     return self._run_internal_graph(\n>>> \n>>>   File \"/venv/lib/python3.9/site-packages/keras/engine/functional.py\", line 589, in _run_internal_graph\n>>>     outputs = node.layer(*args, **kwargs)\n>>> \n>>>   File \"/venv/lib/python3.9/site-packages/keras/utils/traceback_utils.py\", line 64, in error_handler\n>>>     return fn(*args, **kwargs)\n>>> \n>>>   File \"/venv/lib/python3.9/site-packages/keras/engine/base_layer.py\", line 1083, in __call__\n>>>     outputs = call_fn(inputs, *args, **kwargs)\n>>> \n>>>   File \"/venv/lib/python3.9/site-packages/keras/utils/traceback_utils.py\", line 92, in error_handler\n>>>     return fn(*args, **kwargs)\n>>> \n>>>   File \"/venv/lib/python3.9/site-packages/keras/layers/convolutional.py\", line 273, in call\n>>>     return self.activation(outputs)\n>>> \n>>>   File \"/venv/lib/python3.9/site-packages/keras/activations.py\", line 311, in relu\n>>>     return backend.relu(x, alpha=alpha, max_value=max_value, threshold=threshold)\n>>> \n>>>   File \"/venv/lib/python3.9/site-packages/keras/backend.py\", line 4867, in relu\n>>>     x = tf.nn.relu(x)\n>>> "
     ]
    }
   ],
   "source": [
    "history = model1.fit(X_train, y_train, validation_split=0.2, epochs = 100, batch_size = 32)"
   ]
  },
  {
   "cell_type": "code",
   "execution_count": null,
   "id": "758802e9-db7d-4934-9a61-9e06a66265f0",
   "metadata": {},
   "outputs": [],
   "source": []
  }
 ],
 "metadata": {
  "kernelspec": {
   "display_name": "Python 3 (ipykernel)",
   "language": "python",
   "name": "python3"
  },
  "language_info": {
   "codemirror_mode": {
    "name": "ipython",
    "version": 3
   },
   "file_extension": ".py",
   "mimetype": "text/x-python",
   "name": "python",
   "nbconvert_exporter": "python",
   "pygments_lexer": "ipython3",
   "version": "3.9.9"
  },
  "toc-autonumbering": true
 },
 "nbformat": 4,
 "nbformat_minor": 5
}
